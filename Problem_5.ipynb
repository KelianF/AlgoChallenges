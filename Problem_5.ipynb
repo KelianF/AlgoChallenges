{
  "nbformat": 4,
  "nbformat_minor": 0,
  "metadata": {
    "colab": {
      "name": "Problem 1.ipynb",
      "version": "0.3.2",
      "provenance": [],
      "include_colab_link": true
    },
    "kernelspec": {
      "name": "python3",
      "display_name": "Python 3"
    }
  },
  "cells": [
    {
      "cell_type": "markdown",
      "metadata": {
        "id": "view-in-github",
        "colab_type": "text"
      },
      "source": [
        "<a href=\"https://colab.research.google.com/github/KelianF/ProjectEuler/blob/master/Problem_5.ipynb\" target=\"_parent\"><img src=\"https://colab.research.google.com/assets/colab-badge.svg\" alt=\"Open In Colab\"/></a>"
      ]
    },
    {
      "cell_type": "markdown",
      "metadata": {
        "id": "zMSOKzyG4ohH",
        "colab_type": "text"
      },
      "source": [
        "# Problem 5\n",
        "\n",
        "2520 is the smallest number that can be divided by each of the numbers from 1 to 10 without any remainder.\n",
        "\n",
        "What is the smallest positive number that is evenly divisible by all of the numbers from 1 to 20?"
      ]
    },
    {
      "cell_type": "code",
      "metadata": {
        "id": "wGcWTiP05Aea",
        "colab_type": "code",
        "colab": {
          "base_uri": "https://localhost:8080/",
          "height": 35
        },
        "outputId": "013fb317-824c-4dcf-e87d-d4c9d8b917c8"
      },
      "source": [
        "Window = [y for y in range(1,21)]\n",
        "Pointer = 0\n",
        "x = 1\n",
        "\n",
        "while Pointer < (len(Window)+1):\n",
        "    Pointer = 0\n",
        "    for y in Window:\n",
        "        if x%y==0:\n",
        "            Pointer+=1\n",
        "    if Pointer == len(Window):\n",
        "        print(x)\n",
        "        break\n",
        "    x += 1\n"
      ],
      "execution_count": 60,
      "outputs": [
        {
          "output_type": "stream",
          "text": [
            "232792560\n"
          ],
          "name": "stdout"
        }
      ]
    },
    {
      "cell_type": "markdown",
      "metadata": {
        "id": "eJBp8h-iRbSt",
        "colab_type": "text"
      },
      "source": [
        "An quicker method would be to jump by 20:"
      ]
    },
    {
      "cell_type": "code",
      "metadata": {
        "id": "wiyWXC9MRgDI",
        "colab_type": "code",
        "colab": {
          "base_uri": "https://localhost:8080/",
          "height": 35
        },
        "outputId": "c4b72c79-ee2b-4349-c133-6236fa3b11bf"
      },
      "source": [
        "Window = [y for y in range(1,21)]\n",
        "Pointer = 0\n",
        "x = 20\n",
        "\n",
        "while Pointer < (len(Window)+1):\n",
        "    Pointer = 0\n",
        "    for y in Window:\n",
        "        if x%y==0:\n",
        "            Pointer+=1\n",
        "    if Pointer == len(Window):\n",
        "        print(x)\n",
        "        break\n",
        "    x += 20\n"
      ],
      "execution_count": 61,
      "outputs": [
        {
          "output_type": "stream",
          "text": [
            "232792560\n"
          ],
          "name": "stdout"
        }
      ]
    }
  ]
}