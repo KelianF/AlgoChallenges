{
  "nbformat": 4,
  "nbformat_minor": 0,
  "metadata": {
    "colab": {
      "name": "Problem 1.ipynb",
      "version": "0.3.2",
      "provenance": [],
      "include_colab_link": true
    },
    "kernelspec": {
      "name": "python3",
      "display_name": "Python 3"
    }
  },
  "cells": [
    {
      "cell_type": "markdown",
      "metadata": {
        "id": "view-in-github",
        "colab_type": "text"
      },
      "source": [
        "<a href=\"https://colab.research.google.com/github/KelianF/ProjectEuler/blob/master/Problem_1.ipynb\" target=\"_parent\"><img src=\"https://colab.research.google.com/assets/colab-badge.svg\" alt=\"Open In Colab\"/></a>"
      ]
    },
    {
      "cell_type": "markdown",
      "metadata": {
        "id": "zMSOKzyG4ohH",
        "colab_type": "text"
      },
      "source": [
        "# Problem 1\n",
        "\n",
        "If we list all the natural numbers below 10 that are multiples of 3 or 5, we get 3, 5, 6 and 9. The sum of these multiples is 23.\n",
        "\n",
        "Find the sum of all the multiples of 3 or 5 below 1000."
      ]
    },
    {
      "cell_type": "code",
      "metadata": {
        "id": "CG9AM6H44z2l",
        "colab_type": "code",
        "colab": {}
      },
      "source": [
        "def Multiples(n):\n",
        "    y = 0\n",
        "    for x in range(n):\n",
        "        if x % 3 == 0 or x % 5 == 0:\n",
        "            y += x\n",
        "    return y"
      ],
      "execution_count": 0,
      "outputs": []
    },
    {
      "cell_type": "code",
      "metadata": {
        "id": "d3e7Tpag5qbd",
        "colab_type": "code",
        "colab": {
          "base_uri": "https://localhost:8080/",
          "height": 35
        },
        "outputId": "6235314a-7ef9-4d12-cd86-4bc0c7f746bc"
      },
      "source": [
        "Multiples(10)"
      ],
      "execution_count": 4,
      "outputs": [
        {
          "output_type": "execute_result",
          "data": {
            "text/plain": [
              "23"
            ]
          },
          "metadata": {
            "tags": []
          },
          "execution_count": 4
        }
      ]
    },
    {
      "cell_type": "code",
      "metadata": {
        "id": "nQ3UGq2G6ymM",
        "colab_type": "code",
        "colab": {
          "base_uri": "https://localhost:8080/",
          "height": 35
        },
        "outputId": "0f1e2f58-bd4d-4643-c140-125c129127c8"
      },
      "source": [
        "Multiples(100)"
      ],
      "execution_count": 5,
      "outputs": [
        {
          "output_type": "execute_result",
          "data": {
            "text/plain": [
              "2318"
            ]
          },
          "metadata": {
            "tags": []
          },
          "execution_count": 5
        }
      ]
    }
  ]
}