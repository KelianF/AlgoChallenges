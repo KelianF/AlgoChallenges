{
  "nbformat": 4,
  "nbformat_minor": 0,
  "metadata": {
    "colab": {
      "name": "Problem 1.ipynb",
      "version": "0.3.2",
      "provenance": [],
      "include_colab_link": true
    },
    "kernelspec": {
      "name": "python3",
      "display_name": "Python 3"
    }
  },
  "cells": [
    {
      "cell_type": "markdown",
      "metadata": {
        "id": "view-in-github",
        "colab_type": "text"
      },
      "source": [
        "<a href=\"https://colab.research.google.com/github/KelianF/ProjectEuler/blob/master/Problem_6.ipynb\" target=\"_parent\"><img src=\"https://colab.research.google.com/assets/colab-badge.svg\" alt=\"Open In Colab\"/></a>"
      ]
    },
    {
      "cell_type": "markdown",
      "metadata": {
        "id": "zMSOKzyG4ohH",
        "colab_type": "text"
      },
      "source": [
        "# Problem 6\n",
        "\n",
        "The sum of the squares of the first ten natural numbers is,\n",
        "\n",
        "1^2 + 2^2 + ... + 10^2 = 385\n",
        "\n",
        "The square of the sum of the first ten natural numbers is,\n",
        "\n",
        "(1 + 2 + ... + 10)^2 = 55^2 = 3025\n",
        "\n",
        "Hence the difference between the sum of the squares of the first ten natural numbers and the square of the sum is 3025 − 385 = 2640.\n",
        "\n",
        "Find the difference between the sum of the squares of the first one hundred natural numbers and the square of the sum."
      ]
    },
    {
      "cell_type": "code",
      "metadata": {
        "id": "OC0_YitGXfTq",
        "colab_type": "code",
        "colab": {
          "base_uri": "https://localhost:8080/",
          "height": 35
        },
        "outputId": "9c6a7a3e-d481-4fe6-c8e4-fcb69065a3c5"
      },
      "source": [
        "LeRange = [x for x in range(1,11)]\n",
        "sum([x for x in LeRange ])**2 - sum([x**2 for x in LeRange ])"
      ],
      "execution_count": 10,
      "outputs": [
        {
          "output_type": "execute_result",
          "data": {
            "text/plain": [
              "2640"
            ]
          },
          "metadata": {
            "tags": []
          },
          "execution_count": 10
        }
      ]
    },
    {
      "cell_type": "code",
      "metadata": {
        "id": "0J_QFyZEXf68",
        "colab_type": "code",
        "colab": {
          "base_uri": "https://localhost:8080/",
          "height": 35
        },
        "outputId": "aff05276-5fa4-4d33-bfb6-8f91df7cbb89"
      },
      "source": [
        "LeRange = [x for x in range(1,101)]\n",
        "sum([x for x in LeRange ])**2 - sum([x**2 for x in LeRange ])"
      ],
      "execution_count": 11,
      "outputs": [
        {
          "output_type": "execute_result",
          "data": {
            "text/plain": [
              "25164150"
            ]
          },
          "metadata": {
            "tags": []
          },
          "execution_count": 11
        }
      ]
    }
  ]
}