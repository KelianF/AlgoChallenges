{
  "nbformat": 4,
  "nbformat_minor": 0,
  "metadata": {
    "colab": {
      "name": "Problem 1.ipynb",
      "version": "0.3.2",
      "provenance": [],
      "include_colab_link": true
    },
    "kernelspec": {
      "name": "python3",
      "display_name": "Python 3"
    }
  },
  "cells": [
    {
      "cell_type": "markdown",
      "metadata": {
        "id": "view-in-github",
        "colab_type": "text"
      },
      "source": [
        "<a href=\"https://colab.research.google.com/github/KelianF/ProjectEuler/blob/master/Problem_4.ipynb\" target=\"_parent\"><img src=\"https://colab.research.google.com/assets/colab-badge.svg\" alt=\"Open In Colab\"/></a>"
      ]
    },
    {
      "cell_type": "markdown",
      "metadata": {
        "id": "zMSOKzyG4ohH",
        "colab_type": "text"
      },
      "source": [
        "# Problem 4\n",
        "\n",
        "A palindromic number reads the same both ways. The largest palindrome made from the product of two 2-digit numbers is 9009 = 91 × 99.\n",
        "\n",
        "Find the largest palindrome made from the product of two 3-digit numbers."
      ]
    },
    {
      "cell_type": "code",
      "metadata": {
        "id": "wGcWTiP05Aea",
        "colab_type": "code",
        "colab": {}
      },
      "source": [
        "Answer = max([ [ (x*y,x,y) for y in range(99,1000) if str(x*y) == str(x*y)[::-1]] for x in range(99,1000) ])[0]"
      ],
      "execution_count": 0,
      "outputs": []
    },
    {
      "cell_type": "code",
      "metadata": {
        "id": "-25fnGrVurl7",
        "colab_type": "code",
        "colab": {
          "base_uri": "https://localhost:8080/",
          "height": 53
        },
        "outputId": "b87f7d33-fa9a-4651-c104-4ce669364f35"
      },
      "source": [
        "print('The largest palindrome is',Answer[0])\n",
        "print('which multiplies:',Answer[1],'and',Answer[2])"
      ],
      "execution_count": 22,
      "outputs": [
        {
          "output_type": "stream",
          "text": [
            "The largest palindrome is 906609\n",
            "which multiplies: 993 and 913\n"
          ],
          "name": "stdout"
        }
      ]
    }
  ]
}