{
  "nbformat": 4,
  "nbformat_minor": 0,
  "metadata": {
    "colab": {
      "name": "Problem 1.ipynb",
      "version": "0.3.2",
      "provenance": [],
      "include_colab_link": true
    },
    "kernelspec": {
      "name": "python3",
      "display_name": "Python 3"
    }
  },
  "cells": [
    {
      "cell_type": "markdown",
      "metadata": {
        "id": "view-in-github",
        "colab_type": "text"
      },
      "source": [
        "<a href=\"https://colab.research.google.com/github/KelianF/ProjectEuler/blob/master/Problem_3.ipynb\" target=\"_parent\"><img src=\"https://colab.research.google.com/assets/colab-badge.svg\" alt=\"Open In Colab\"/></a>"
      ]
    },
    {
      "cell_type": "markdown",
      "metadata": {
        "id": "zMSOKzyG4ohH",
        "colab_type": "text"
      },
      "source": [
        "# Problem 3\n",
        "\n",
        "The prime factors of 13195 are 5, 7, 13 and 29.\n",
        "\n",
        "What is the largest prime factor of the number 600851475143 ?"
      ]
    },
    {
      "cell_type": "code",
      "metadata": {
        "id": "nQ3UGq2G6ymM",
        "colab_type": "code",
        "colab": {}
      },
      "source": [
        "import numpy as np\n",
        "def PrimeFactor(Number):\n",
        "    sqrt = int(np.sqrt(Number))\n",
        "    List = []\n",
        "    for x in range(2,sqrt+1):         # here square root\n",
        "        if Number%x==0:\n",
        "            switch = 0\n",
        "            for y in range(2,x):\n",
        "                if str(y)+str(x) not in List:\n",
        "                    List.append( str(y)+str(x) )\n",
        "                    if x%y==0:\n",
        "                        switch = 1\n",
        "                        break\n",
        "            if switch == 0:\n",
        "                print(x)"
      ],
      "execution_count": 0,
      "outputs": []
    },
    {
      "cell_type": "code",
      "metadata": {
        "id": "f4asv9Pv4WXq",
        "colab_type": "code",
        "colab": {
          "base_uri": "https://localhost:8080/",
          "height": 88
        },
        "outputId": "83dff341-4c0a-4f20-8cc6-ca67dfa7d2f2"
      },
      "source": [
        "PrimeFactor(13195)"
      ],
      "execution_count": 20,
      "outputs": [
        {
          "output_type": "stream",
          "text": [
            "5\n",
            "7\n",
            "13\n",
            "29\n"
          ],
          "name": "stdout"
        }
      ]
    },
    {
      "cell_type": "code",
      "metadata": {
        "id": "wGcWTiP05Aea",
        "colab_type": "code",
        "colab": {
          "base_uri": "https://localhost:8080/",
          "height": 88
        },
        "outputId": "ab6959e6-7568-4681-f93a-cb749d274263"
      },
      "source": [
        "PrimeFactor(600851475143)"
      ],
      "execution_count": 21,
      "outputs": [
        {
          "output_type": "stream",
          "text": [
            "71\n",
            "839\n",
            "1471\n",
            "6857\n"
          ],
          "name": "stdout"
        }
      ]
    }
  ]
}